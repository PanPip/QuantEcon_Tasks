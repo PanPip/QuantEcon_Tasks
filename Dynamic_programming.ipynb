{
 "cells": [
  {
   "cell_type": "markdown",
   "metadata": {},
   "source": [
    "#### Lesson: Shortest Paths"
   ]
  },
  {
   "cell_type": "code",
   "execution_count": 8,
   "metadata": {},
   "outputs": [],
   "source": [
    "import numpy as np"
   ]
  },
  {
   "cell_type": "code",
   "execution_count": 9,
   "metadata": {},
   "outputs": [],
   "source": [
    "from numpy import inf\n",
    "\n",
    "Q = np.array([[inf, 1,   5,   3,   inf, inf, inf],\n",
    "              [inf, inf, inf, 9,   6,   inf, inf],\n",
    "              [inf, inf, inf, inf, inf, 2,   inf],\n",
    "              [inf, inf, inf, inf, inf, 4,   8],\n",
    "              [inf, inf, inf, inf, inf, inf, 4],\n",
    "              [inf, inf, inf, inf, inf, inf, 1],\n",
    "              [inf, inf, inf, inf, inf, inf, 0]])"
   ]
  },
  {
   "cell_type": "code",
   "execution_count": 10,
   "metadata": {},
   "outputs": [
    {
     "name": "stdout",
     "output_type": "stream",
     "text": [
      "The cost-to-go function is [ 8 10  3  5  4  1  0]\n"
     ]
    }
   ],
   "source": [
    "num_nodes = 7\n",
    "J = np.zeros(num_nodes, dtype=np.int)       # Initial guess\n",
    "next_J = np.empty(num_nodes, dtype=np.int)  # Stores updated guess\n",
    "max_iter = 500\n",
    "i = 0\n",
    "\n",
    "while i < max_iter:\n",
    "   for v in range(num_nodes):\n",
    "      next_J[v] = np.min(Q[v, :] + J)\n",
    "   if np.equal(next_J, J).all():\n",
    "      break\n",
    "   else:\n",
    "      J[:] = next_J   # Copy contents of next_J to J\n",
    "      i += 1\n",
    "\n",
    "print(\"The cost-to-go function is\", J)"
   ]
  },
  {
   "cell_type": "markdown",
   "metadata": {},
   "source": [
    "Ecercise 1\n",
    "\n",
    "![Ex1](img/sp_1.png)"
   ]
  },
  {
   "cell_type": "code",
   "execution_count": 11,
   "metadata": {},
   "outputs": [],
   "source": [
    "num_nodes = 100\n",
    "destination_node = 99\n",
    "\n",
    "def map_graph_to_distance_matrix(in_file):\n",
    "\n",
    "   # First let's set of the distance matrix Q with inf everywhere\n",
    "   Q = np.ones((num_nodes, num_nodes))\n",
    "   Q = Q * np.inf\n",
    "\n",
    "   # Now we read in the data and modify Q\n",
    "   infile = open(in_file)\n",
    "   for line in infile:\n",
    "      elements = line.split(',')\n",
    "      node = elements.pop(0)\n",
    "      node = int(node[4:])    # convert node description to integer\n",
    "      if node != destination_node:\n",
    "          for element in elements:\n",
    "              destination, cost = element.split()\n",
    "              destination = int(destination[4:])\n",
    "              Q[node, destination] = float(cost)\n",
    "   Q[destination_node, destination_node] = 0\n",
    "\n",
    "   infile.close()\n",
    "   return Q"
   ]
  },
  {
   "cell_type": "code",
   "execution_count": 12,
   "metadata": {},
   "outputs": [],
   "source": [
    "def bellman(J, Q):\n",
    "   num_nodes = Q.shape[0]\n",
    "   next_J = np.empty_like(J)\n",
    "   for v in range(num_nodes):\n",
    "      next_J[v] = np.min(Q[v, :] + J)\n",
    "   return next_J\n",
    "\n",
    "\n",
    "def compute_cost_to_go(Q):\n",
    "   J = np.zeros(num_nodes)      # Initial guess\n",
    "   next_J = np.empty(num_nodes)  # Stores updated guess\n",
    "   max_iter = 500\n",
    "   i = 0\n",
    "\n",
    "   while i < max_iter:\n",
    "      next_J = bellman(J, Q)\n",
    "      if np.allclose(next_J, J):\n",
    "         break\n",
    "      else:\n",
    "         J[:] = next_J   # Copy contents of next_J to J\n",
    "         i += 1\n",
    "\n",
    "   return(J)"
   ]
  },
  {
   "cell_type": "code",
   "execution_count": 13,
   "metadata": {},
   "outputs": [],
   "source": [
    "def print_best_path(J, Q):\n",
    "    sum_costs = 0\n",
    "    current_node = 0\n",
    "    while current_node != destination_node:\n",
    "        print(current_node)\n",
    "        # Move to the next node and increment costs\n",
    "        next_node = np.argmin(Q[current_node, :] + J)\n",
    "        sum_costs += Q[current_node, next_node]\n",
    "        current_node = next_node\n",
    "\n",
    "    print(destination_node)\n",
    "    print('Cost: ', sum_costs)"
   ]
  },
  {
   "cell_type": "code",
   "execution_count": 14,
   "metadata": {},
   "outputs": [
    {
     "name": "stdout",
     "output_type": "stream",
     "text": [
      "0\n",
      "8\n",
      "11\n",
      "18\n",
      "23\n",
      "33\n",
      "41\n",
      "53\n",
      "56\n",
      "57\n",
      "60\n",
      "67\n",
      "70\n",
      "73\n",
      "76\n",
      "85\n",
      "87\n",
      "88\n",
      "93\n",
      "94\n",
      "96\n",
      "97\n",
      "98\n",
      "99\n",
      "Cost:  160.55000000000007\n"
     ]
    }
   ],
   "source": [
    "Q = map_graph_to_distance_matrix('graph.txt')\n",
    "J = compute_cost_to_go(Q)\n",
    "print_best_path(J, Q)"
   ]
  },
  {
   "cell_type": "code",
   "execution_count": null,
   "metadata": {},
   "outputs": [],
   "source": []
  }
 ],
 "metadata": {
  "kernelspec": {
   "display_name": "Python 3",
   "language": "python",
   "name": "python3"
  },
  "language_info": {
   "codemirror_mode": {
    "name": "ipython",
    "version": 3
   },
   "file_extension": ".py",
   "mimetype": "text/x-python",
   "name": "python",
   "nbconvert_exporter": "python",
   "pygments_lexer": "ipython3",
   "version": "3.7.3"
  }
 },
 "nbformat": 4,
 "nbformat_minor": 2
}
